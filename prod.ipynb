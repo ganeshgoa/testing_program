{
 "cells": [
  {
   "cell_type": "code",
   "execution_count": 1,
   "id": "f16152d1",
   "metadata": {},
   "outputs": [],
   "source": [
    "#Добавим нужные библиотеки\n",
    "import re\n",
    "import pyshark\n",
    "import nest_asyncio\n",
    "nest_asyncio.apply()\n",
    "import json"
   ]
  },
  {
   "cell_type": "code",
   "execution_count": 2,
   "id": "a02b5950",
   "metadata": {},
   "outputs": [],
   "source": [
    "#Прочитаем пакеты из трейса и применим фильтр по протоколам sctp и s1ap\n",
    "capture = pyshark.FileCapture('./test.pcap', display_filter = 'sctp and s1ap')"
   ]
  },
  {
   "cell_type": "code",
   "execution_count": 10,
   "id": "9951b741",
   "metadata": {},
   "outputs": [
    {
     "name": "stdout",
     "output_type": "stream",
     "text": [
      "{'per.extension_bit': 'False', 'per.choice_index': '0', 's1ap.S1AP_PDU': '0', 's1ap.initiatingMessage_element': 'initiatingMessage', 's1ap.procedureCode': '13', 'per.enum_index': '1', 's1ap.criticality': '1', 'per.open_type_length': '55', 's1ap.value_element': 'value', 's1ap.UplinkNASTransport_element': 'UplinkNASTransport', 'per.sequence_of_length': '5', 's1ap.protocolIEs': '5', '': 'Item 0: id-MME-UE-S1AP-ID', 's1ap.ProtocolIE_Field_element': 'ProtocolIE-Field', 's1ap.id': '0', 's1ap.MME_UE_S1AP_ID': '0', 's1ap.ENB_UE_S1AP_ID': '1', 'per.octet_string_length': '13', 's1ap.NAS_PDU': '27:52:0c:ed:64:02:07:43:00:03:52:00:c2', 'nas-eps.security_header_type': '2', 'gsm_a.L3_protocol_discriminator': '0x07', 'nas-eps.msg_auth_code': '0x520ced64', 'nas-eps.seq_no': '2', 'nas-eps.nas_msg_emm_type': '0x43', 'gsm_a.len': '3', 'nas-eps.emm.esm_msg_cont': '52:00:c2', 'nas-eps.bearer_id': '5', 'nas-eps.esm.proc_trans_id': '0', 'nas-eps.nas_msg_esm_type': '0xc2', 's1ap.EUTRAN_CGI_element': 'EUTRAN-CGI', 'per.optional_field_bit': 'False', 's1ap.pLMNidentity': '52:f0:20', 'e212.ecgi.mcc': '250', 'e212.ecgi.mnc': '02', 's1ap.CellIdentity': '0x0fffffff', 's1ap.TAI_element': 'TAI', 'e212.tai.mcc': '250', 'e212.tai.mnc': '02', 's1ap.tAC': '1'}\n"
     ]
    }
   ],
   "source": [
    "#Для более детального изучения данный блок позволяет получить все поля пакета по его номеру. \n",
    "for i in capture:\n",
    "    if i.number == '34':\n",
    "        print(i.s1ap._all_fields)"
   ]
  },
  {
   "cell_type": "code",
   "execution_count": 17,
   "id": "579c6115",
   "metadata": {},
   "outputs": [
    {
     "name": "stdout",
     "output_type": "stream",
     "text": [
      "Была попытка аттача, номер пакета  15  номер sctp сессии  0x0001\n",
      "Попытка аттача с sctp сессией  0x0001  завершилась успешно, номер пакета  34\n",
      "Была попытка аттача, номер пакета  44  номер sctp сессии  0x0001\n",
      "Попытка аттача с sctp сессией  0x0001  завершилась успешно, номер пакета  63\n",
      "За всё время было  2  попыток(ки) аттача\n",
      "Из них  2  попыток(ки) завершилось успешно\n"
     ]
    }
   ],
   "source": [
    "#Данный блок позволяет применить фильтры. В первую очередь происходит выборка всех пакетов и процедур, \n",
    "#которые относятся к одной транспортной sctp сессии. Далее пакеты фильтруются по номеру процедуры. Например, 12 - означает, \n",
    "#что в этом сообщении передается Initial Ue message, с помощью которого осуществляется попытка подключения к коре. \n",
    "# 13 - означает, что в данном сообщении передается Uplink Nas Transport, в котором содержится ответ об успешном/неуспешном\n",
    "# завершении попытки аттача на сети. \n",
    "# Из-за невозможности применить логический фильтр с использованием библиотеки pyshark ко всем пакетам с 13 s1ap procedure\n",
    "# мной было принятно решение разбирать пакеты в виде словаря, затем преобразовать его в список. И только потом, используя номер\n",
    "# конкретного местоположения элемента в списке, сравнить его со значением 0x43, которое свидетельствует об успешном заверешнии\n",
    "# попытки аттача в пределах одной и той же sctp сессии. Далее каждая попытка аттача добавляется в список att_att_list в виде 1 \n",
    "# с указанеием sctp сессии, в список att_com_list добавляются 1 в случае успешного заверешения аттача. Таким образом, с помощью\n",
    "# sctp обеспечивается совпадение между попыткой аттача и его успешным завершением. Ведь если в рамках одной sctp сессии\n",
    "# абонент не получит ответ об успешном завершении попытки, то это будет означать, что попытка провалилась. \n",
    "att_att_list = []\n",
    "att_com_list = []\n",
    "sid_list = []\n",
    "for packet in capture:\n",
    "    d = packet.s1ap._all_fields\n",
    "    if packet.highest_layer == 'S1AP':\n",
    "        if packet.s1ap.procedurecode == '12':\n",
    "            get_value = packet.sctp.data_sid\n",
    "            if packet.sctp.data_sid == get_value:\n",
    "                if (d['s1ap.procedureCode'] == '12'):\n",
    "                    if (d['s1ap.RRC_Establishment_Cause'] == '3') and (d['nas-eps.nas_msg_emm_type'] == '0x41'):\n",
    "                        print(\"Была попытка аттача, номер пакета \", packet.number, \" номер sctp сессии \", packet.sctp.data_sid)\n",
    "                        #print(packet.number)\n",
    "                        #print(packet.sctp.data_sid)\n",
    "                        att_att_list.append(1)\n",
    "        if packet.s1ap.procedurecode == '13':\n",
    "            if packet.sctp.data_sid == get_value:\n",
    "                get_dict = dict(packet.s1ap._all_fields)\n",
    "                keys = list(get_dict.items())\n",
    "                if (keys[23] == ('nas-eps.nas_msg_emm_type', '0x43')):\n",
    "                    print(\"Попытка аттача с sctp сессией \", packet.sctp.data_sid, \" завершилась успешно, номер пакета \", packet.number)\n",
    "                    #print(packet.number)\n",
    "                    #print(packet.sctp.data_sid)\n",
    "                    att_com_list.append(1)\n",
    "print(\"За всё время было \", len(att_att_list), \" попыток(ки) аттача\")\n",
    "print(\"Из них \", len(att_com_list), \" попыток(ки) завершилось успешно\")"
   ]
  },
  {
   "cell_type": "code",
   "execution_count": null,
   "id": "44b5afce",
   "metadata": {},
   "outputs": [],
   "source": []
  }
 ],
 "metadata": {
  "kernelspec": {
   "display_name": "Python 3 (ipykernel)",
   "language": "python",
   "name": "python3"
  },
  "language_info": {
   "codemirror_mode": {
    "name": "ipython",
    "version": 3
   },
   "file_extension": ".py",
   "mimetype": "text/x-python",
   "name": "python",
   "nbconvert_exporter": "python",
   "pygments_lexer": "ipython3",
   "version": "3.11.7"
  }
 },
 "nbformat": 4,
 "nbformat_minor": 5
}
